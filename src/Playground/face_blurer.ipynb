{
 "cells": [
  {
   "cell_type": "code",
   "execution_count": null,
   "metadata": {},
   "outputs": [],
   "source": [
    "import os\n",
    "import subprocess\n",
    "path_to_image_dir=\"/media/qihan/CORSAIR/Test/Data_clean/User_3/video_3\"\n",
    "\n",
    "\n",
    "# Iterate over subfolders\n",
    "for subfolder in os.listdir(path_to_image_dir):\n",
    "    subfolder_path = os.path.join(path_to_image_dir, subfolder)\n",
    "    \n",
    "    # Check if the item is a directory\n",
    "    if os.path.isdir(subfolder_path):\n",
    "        # Iterate over images in the subfolder\n",
    "        for image_file in os.listdir(subfolder_path):\n",
    "            if \"anonymized\" in image_file:\n",
    "                continue\n",
    "            image_path = os.path.join(subfolder_path, image_file)\n",
    "            \n",
    "            # Call the deface function for each image\n",
    "            subprocess.call([\"deface\", image_path, image_path,\"--backend\",\"opencv\"])\n",
    "    \n",
    "    pass"
   ]
  },
  {
   "cell_type": "code",
   "execution_count": 7,
   "metadata": {},
   "outputs": [],
   "source": [
    "path_to_image_dir=\"/media/qihan/CORSAIR/Test/Data_clean/User_3/video_3\"\n",
    "\n",
    "# Iterate over subfolders\n",
    "for subfolder in os.listdir(path_to_image_dir):\n",
    "    subfolder_path = os.path.join(path_to_image_dir, subfolder)\n",
    "    \n",
    "    # Check if the item is a directory\n",
    "    if os.path.isdir(subfolder_path):\n",
    "        # Iterate over images in the subfolder\n",
    "        for image_file in os.listdir(subfolder_path):\n",
    "            if \"anonymized\" not in image_file:\n",
    "                image_path = os.path.join(subfolder_path, image_file)\n",
    "                os.remove(image_path)\n",
    "    \n",
    "# Iterate over subfolders\n",
    "for subfolder in os.listdir(path_to_image_dir):\n",
    "    subfolder_path = os.path.join(path_to_image_dir, subfolder)\n",
    "    \n",
    "    # Check if the item is a directory\n",
    "    if os.path.isdir(subfolder_path):\n",
    "        # Iterate over images in the subfolder\n",
    "        for image_file in os.listdir(subfolder_path):\n",
    "            if \"anonymized\" in image_file:\n",
    "                image_path = os.path.join(subfolder_path, image_file)\n",
    "                new_image_path = os.path.join(subfolder_path, image_file.replace(\"anonymized_\", \"\"))\n",
    "                os.rename(image_path, new_image_path)\n"
   ]
  }
 ],
 "metadata": {
  "kernelspec": {
   "display_name": "base",
   "language": "python",
   "name": "python3"
  },
  "language_info": {
   "codemirror_mode": {
    "name": "ipython",
    "version": 3
   },
   "file_extension": ".py",
   "mimetype": "text/x-python",
   "name": "python",
   "nbconvert_exporter": "python",
   "pygments_lexer": "ipython3",
   "version": "3.10.10"
  }
 },
 "nbformat": 4,
 "nbformat_minor": 2
}
