{
 "cells": [
  {
   "cell_type": "code",
   "execution_count": 14,
   "metadata": {},
   "outputs": [],
   "source": [
    "import wave\n",
    "import numpy as np\n",
    "\n",
    "# Load the audio file\n",
    "def audio_cropper(audio_path):\n",
    "    # Read the audio file\n",
    "    with wave.open(audio_path, 'rb') as audio_file:\n",
    "        # Get audio properties\n",
    "        channels = audio_file.getnchannels()\n",
    "        sample_width = audio_file.getsampwidth()\n",
    "        frame_rate = audio_file.getframerate()\n",
    "        frames = audio_file.getnframes()\n",
    "\n",
    "        # Read audio data\n",
    "        audio_data = audio_file.readframes(frames)\n",
    "\n",
    "    # Convert audio data to numpy array\n",
    "    audio = np.frombuffer(audio_data, dtype=np.int16)\n",
    "    # Set the duration to keep\n",
    "    duration = 15  # in seconds\n",
    "\n",
    "    # Calculate the number of frames to keep\n",
    "    frames_to_keep = int(duration * frame_rate)\n",
    "\n",
    "    # Keep only the first 'frames_to_keep' frames\n",
    "    audio = audio[:frames_to_keep]\n",
    "    # Set the threshold for silence detection\n",
    "    threshold = 1000\n",
    "\n",
    "    # Find the indices where the amplitude is higher than the threshold\n",
    "    above_threshold_indices = np.where(audio > threshold)[0]\n",
    "\n",
    "    # Find the last time where the amplitude is higher than the threshold\n",
    "    last_time_above_threshold = above_threshold_indices[-1] / frame_rate\n",
    "\n",
    "    # Remove the audio after the last time_above_threshold\n",
    "    last_index_above_threshold = int(last_time_above_threshold * frame_rate)\n",
    "    audio = audio[:last_index_above_threshold+1*frame_rate]\n",
    "\n",
    "    # Plot the updated amplitude\n",
    "    import matplotlib.pyplot as plt\n",
    "    # Write the updated audio data back to the file\n",
    "    with wave.open(audio_path, 'wb') as audio_file:\n",
    "        audio_file.setnchannels(channels)  # Set the number of channels\n",
    "        audio_file.setframerate(frame_rate)\n",
    "\n",
    "        audio_file.setsampwidth(sample_width)  # Set the sample width\n",
    "        audio_file.setnframes(len(audio))\n",
    "        audio_file.writeframes(audio.tobytes())\n",
    "        \n",
    "\n"
   ]
  },
  {
   "cell_type": "code",
   "execution_count": 15,
   "metadata": {},
   "outputs": [],
   "source": [
    "import os\n",
    "\n",
    "input_dir = '/media/qihan/CORSAIR/Test/Data_clean/User_3/audio'\n",
    "\n",
    "# Get a list of files in the input directory\n",
    "files = os.listdir(input_dir)\n",
    "\n",
    "# Iterate over the files and call the audio_cropper() function\n",
    "for file in files:\n",
    "    file_path = os.path.join(input_dir, file)\n",
    "    audio_cropper(file_path)\n"
   ]
  }
 ],
 "metadata": {
  "kernelspec": {
   "display_name": "base",
   "language": "python",
   "name": "python3"
  },
  "language_info": {
   "codemirror_mode": {
    "name": "ipython",
    "version": 3
   },
   "file_extension": ".py",
   "mimetype": "text/x-python",
   "name": "python",
   "nbconvert_exporter": "python",
   "pygments_lexer": "ipython3",
   "version": "3.10.10"
  }
 },
 "nbformat": 4,
 "nbformat_minor": 2
}
