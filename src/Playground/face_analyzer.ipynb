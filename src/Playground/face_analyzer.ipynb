{
 "cells": [
  {
   "cell_type": "code",
   "execution_count": 2,
   "metadata": {},
   "outputs": [
    {
     "name": "stderr",
     "output_type": "stream",
     "text": [
      "/home/qihan/miniconda3/lib/python3.10/site-packages/tqdm/auto.py:21: TqdmWarning: IProgress not found. Please update jupyter and ipywidgets. See https://ipywidgets.readthedocs.io/en/stable/user_install.html\n",
      "  from .autonotebook import tqdm as notebook_tqdm\n"
     ]
    }
   ],
   "source": [
    "from facetorch import FaceAnalyzer\n",
    "from omegaconf import OmegaConf\n",
    "from typing import Dict\n",
    "import operator\n",
    "import torchvision\n",
    "import torch\n",
    "import numpy as np\n",
    "import os\n",
    "import operator\n",
    "import pandas as pd\n",
    "import seaborn as sns\n",
    "import matplotlib.pyplot as plt\n",
    "import pickle5 as pickle\n",
    "from tqdm import tqdm\n",
    "import os\n",
    "import json\n",
    "import csv\n",
    "import shutil"
   ]
  },
  {
   "cell_type": "markdown",
   "metadata": {},
   "source": [
    "Initialize the analyzer"
   ]
  },
  {
   "cell_type": "code",
   "execution_count": 3,
   "metadata": {},
   "outputs": [],
   "source": [
    "\n",
    "# initialize\n",
    "path_config=\"gpu.config.yml\"\n",
    "cfg = OmegaConf.load(path_config)\n",
    "analyzer = FaceAnalyzer(cfg.analyzer)\n",
    "\n",
    "#Warm up\n",
    "path_img_input=\"./test_error_1/frame_0.png\"\n",
    "response=None\n",
    "# warmup\n",
    "response = analyzer.run(\n",
    "        path_image=path_img_input,\n",
    "        batch_size=cfg.batch_size,\n",
    "        fix_img_size=cfg.fix_img_size,\n",
    "        return_img_data=False,\n",
    "        include_tensors=True,\n",
    "    )"
   ]
  },
  {
   "cell_type": "markdown",
   "metadata": {},
   "source": [
    "Define functions"
   ]
  },
  {
   "cell_type": "code",
   "execution_count": 4,
   "metadata": {},
   "outputs": [],
   "source": [
    "def generate_string(input_dir):\n",
    "    # Split the input directory into parts\n",
    "    parts = input_dir.split('/')\n",
    "    \n",
    "    # Get the last part of the directory\n",
    "    last_part = parts[-1]\n",
    "    \n",
    "    # Split the last part by underscore\n",
    "    last_part_parts = last_part.split('_')\n",
    "    \n",
    "    # Get the video name and frame rate\n",
    "    video_name = \"_\".join(last_part_parts[:3])\n",
    "    frame_rate = last_part_parts[6]\n",
    "    \n",
    "    # Generate the string\n",
    "    result = f\"Similarity Matrix, {video_name}, fps={frame_rate}\"\n",
    "    \n",
    "    return result\n",
    "\n"
   ]
  },
  {
   "cell_type": "code",
   "execution_count": 3,
   "metadata": {},
   "outputs": [],
   "source": [
    "def get_response_dict(input_dir):\n",
    "    # Get a list of all image files in the \"./test\" directory\n",
    "    image_files = [file for file in os.listdir(input_dir) if file.endswith(\".png\")]\n",
    "\n",
    "    # Create an empty dictionary to store the responses\n",
    "    responses_dict = {}\n",
    "    responses_dict_path = os.path.join(input_dir, 'responses_dict.pkl')\n",
    "    if os.path.exists(responses_dict_path):\n",
    "        # Load the responses_dict from the pickle file\n",
    "        saved_responses_dict = read_responses_dict(input_dir)\n",
    "    \n",
    "    # Remove the image files that are already in the responses_dict keys\n",
    "    image_files = [file for file in image_files if ((file not in saved_responses_dict.keys()) and (file.endswith(\".png\")))]\n",
    "    # Iterate over each image file with a progress bar\n",
    "    for image_file in tqdm(image_files):\n",
    "        \n",
    "        # Get the full path of the image file\n",
    "        image_path = os.path.join(input_dir, image_file)\n",
    "        \n",
    "        # Run the analyzer on the image\n",
    "        response = analyzer.run(\n",
    "            path_image=image_path,\n",
    "            batch_size=cfg.batch_size,\n",
    "            fix_img_size=cfg.fix_img_size,\n",
    "            return_img_data=cfg.return_img_data,\n",
    "            include_tensors=cfg.include_tensors,\n",
    "        )\n",
    "        if len(response.faces) == 0:\n",
    "            print(f\"No face detected in {image_file}\")\n",
    "            continue\n",
    "        # Add the response to the dictionary with the image file name as the key\n",
    "        responses_dict[image_file] = response.faces[0].preds[\"embed\"].logits\n",
    "    \n",
    "    responses_dict = dict(sorted(responses_dict.items(), key=lambda x: int(''.join(filter(str.isdigit, x[0])))))\n",
    "    return responses_dict\n",
    "\n",
    "def read_responses_dict(input_dir):\n",
    "    # Check if the responses_dict file exists\n",
    "    responses_dict_path = os.path.join(input_dir, 'responses_dict.pkl')\n",
    "    if not os.path.exists(responses_dict_path):\n",
    "        print(\"responses_dict.pkl file does not exist in the input directory.\")\n",
    "        return None\n",
    "        \n",
    "    # Load the responses_dict from the pickle file\n",
    "    with open(responses_dict_path, 'rb') as file:\n",
    "        responses_dict = pickle.load(file)\n",
    "    return responses_dict\n",
    "\n",
    "def cosine_similarity(a, b):\n",
    "    dot_product = np.dot(a, b)\n",
    "    norm_a = np.linalg.norm(a)\n",
    "    norm_b = np.linalg.norm(b)\n",
    "    return dot_product / (norm_a * norm_b)\n"
   ]
  },
  {
   "cell_type": "code",
   "execution_count": 6,
   "metadata": {},
   "outputs": [],
   "source": [
    "\n",
    "\n",
    "\n",
    "def get_similarity_matrix(input_dir, compare_dir=None):\n",
    "    if os.path.exists(os.path.join(input_dir, 'similarity_matrix_compare_neutral.png')):\n",
    "        return\n",
    "    \n",
    "    responses_dict_1 = read_responses_dict(input_dir)\n",
    "    if compare_dir is not None:\n",
    "        responses_dict_2 = read_responses_dict(compare_dir)\n",
    "    else:\n",
    "        responses_dict_2 = responses_dict_1\n",
    "    similarity_matrix = {}\n",
    "\n",
    "    # Iterate over each pair of keys in responses_dict\n",
    "    for key_1, value_1 in responses_dict_1.items():\n",
    "        for key_2, value_2 in responses_dict_2.items():\n",
    "            # Calculate the cosine similarity between value_1 and value_2\n",
    "            similarity = cosine_similarity(value_1, value_2, dim=0).item()\n",
    "            \n",
    "            # Add the similarity to the similarity matrix with the key pair as the key\n",
    "            similarity_matrix[key_1 + \"+\" + key_2] = similarity\n",
    "\n",
    "    # Convert the similarity matrix to a dataframe\n",
    "    similarity_df = pd.DataFrame.from_dict(similarity_matrix, orient='index')\n",
    "    # Reset the index and split the key pair into separate columns\n",
    "    similarity_df.reset_index(inplace=True)\n",
    "    similarity_df[['key_1', 'key_2']] = similarity_df['index'].str.split('+', expand=True)\n",
    "    # Convert the key_1 and key_2 columns to numeric type\n",
    "    similarity_df['key_1'] = similarity_df['key_1'].str.extract('(\\d+)', expand=False).astype(int)\n",
    "\n",
    "    similarity_df['key_2'] = similarity_df['key_2'].str.extract('(\\d+)', expand=False).astype(int)\n",
    "\n",
    "    # Sort the dataframe by key_1 and key_2 columns\n",
    "    similarity_df = similarity_df.sort_values(['key_1', 'key_2'])\n",
    "\n",
    "    # Pivot the dataframe to create a matrix-like structure\n",
    "    similarity_matrix_df = similarity_df.pivot(index='key_1', columns='key_2', values=0)\n",
    "\n",
    "    # Create a heatmap of the similarity matrix\n",
    "    plt.figure(figsize=(10, 8))\n",
    "    sns.heatmap(similarity_matrix_df, cmap='coolwarm', fmt=\".2f\")\n",
    "    if compare_dir is not None:\n",
    "        plt.title(generate_string(input_dir))\n",
    "    else:\n",
    "        plt.title(generate_string(input_dir)+\"compared to neutral baseline\")\n",
    "    plt.xlabel('frames')\n",
    "    plt.ylabel('frames')\n",
    "    if compare_dir is not None:\n",
    "        plt.savefig(os.path.join(input_dir, 'similarity_matrix_compare_neutral.png'))\n",
    "    else:\n",
    "        plt.savefig(os.path.join(input_dir, 'similarity_matrix.png'))\n",
    "    return\n",
    "    \n"
   ]
  },
  {
   "cell_type": "code",
   "execution_count": 7,
   "metadata": {},
   "outputs": [],
   "source": [
    "\n",
    "def remove_talking_frames(input_dir, last_time_above_threshold):\n",
    "    # Load the similarity matrix\n",
    "    with open(os.path.join(input_dir, 'responses_dict.pkl'), 'rb') as file:\n",
    "        responses_dict = pickle.load(file)\n",
    "    \n",
    "    # Get the frame rate of the video\n",
    "    frame_rate = 30\n",
    "    key_to_delete=[]\n",
    "    for key in responses_dict.keys():\n",
    "    # Get the time of each frame\n",
    "        times = int(key.split('_')[1].split('.')[0]) / frame_rate\n",
    "        if times < last_time_above_threshold:\n",
    "            key_to_delete.append(key)\n",
    "    for key in key_to_delete:\n",
    "        del responses_dict[key]\n",
    "    # Save the new dictionary as a pickle file\n",
    "    with open(os.path.join(input_dir, 'responses_dict.pkl'), 'wb') as file:\n",
    "        pickle.dump(responses_dict, file)\n",
    "    \n",
    "    return\n",
    "\n",
    "\n"
   ]
  },
  {
   "cell_type": "markdown",
   "metadata": {},
   "source": [
    "Test with one episode"
   ]
  },
  {
   "cell_type": "code",
   "execution_count": null,
   "metadata": {},
   "outputs": [],
   "source": [
    "import os\n",
    "import re\n",
    "import wave\n",
    "path_to_video_dir = \"/media/qihan/CORSAIR/Test/Data_clean/User_3/video_2/3_0_3_video_2_framerate_3_faces\"\n",
    "path_to_audio_file = re.sub(r'_video_2_framerate_\\d+_faces', '_audio.wav', path_to_video_dir).replace('video_2', 'audio')\n",
    "# Specify the path to the audio file\n",
    "\n",
    "# Open the audio file\n",
    "def get_auio_length(path_to_audio_file):\n",
    "    with wave.open(path_to_audio_file, 'rb') as audio_file:\n",
    "        # Get the number of frames in the audio file\n",
    "        num_frames = audio_file.getnframes()\n",
    "        \n",
    "        # Get the frame rate of the audio file\n",
    "        frame_rate = audio_file.getframerate()\n",
    "        \n",
    "        # Calculate the length of the audio file in seconds\n",
    "        audio_length = num_frames / frame_rate\n",
    "    return audio_length\n",
    "\n",
    "last_speech_time = get_auio_length(path_to_audio_file)\n",
    "print(last_speech_time)\n",
    "remove_talking_frames(path_to_video_dir, last_speech_time)\n",
    "get_similarity_matrix(path_to_video_dir)\n",
    "\n",
    "\n",
    "\n",
    "\n",
    "\n"
   ]
  },
  {
   "cell_type": "markdown",
   "metadata": {},
   "source": [
    "Batch process all episodes"
   ]
  },
  {
   "cell_type": "code",
   "execution_count": null,
   "metadata": {},
   "outputs": [],
   "source": [
    "\n",
    "super_dir = \"/media/qihan/CORSAIR/Test/Data_clean/User_3/video_2\"\n",
    "\n",
    "# Get a list of all subfolders in super_dir\n",
    "subfolders = [folder for folder in os.listdir(super_dir) if os.path.isdir(os.path.join(super_dir, folder))]\n",
    "\n",
    "# Iterate over each subfolder with a progress bar\n",
    "for subfolder in tqdm(subfolders):\n",
    "    input_dir = os.path.join(super_dir, subfolder)\n",
    "    # Get the audio file path\n",
    "    path_to_audio_file = re.sub(r'_video_2_framerate_\\d+_faces', '_audio.wav', input_dir).replace('video_2', 'audio')\n",
    "    # Get the last time with speech\n",
    "    print(path_to_audio_file)\n",
    "    last_speech_time = get_auio_length(path_to_audio_file)\n",
    "    print(last_speech_time)\n",
    "    # Remove the frames with speech\n",
    "    get_response_dict(input_dir)\n",
    "    remove_talking_frames(input_dir, last_speech_time)\n",
    "    get_similarity_matrix(input_dir)\n"
   ]
  },
  {
   "cell_type": "code",
   "execution_count": 15,
   "metadata": {},
   "outputs": [],
   "source": [
    "import os\n",
    "import pickle\n",
    "input_dir = \"/media/qihan/CORSAIR/Test/Data_clean/User_3/neutral_baseline\"\n",
    "big_dict = {}\n",
    "\n",
    "# Get a list of all subfolders in input_dir\n",
    "subfolders = [folder for folder in os.listdir(input_dir) if os.path.isdir(os.path.join(input_dir, folder))]\n",
    "\n",
    "# Iterate over each subfolder\n",
    "for subfolder in subfolders:\n",
    "    # Get the path to the responses_dict.pkl file\n",
    "    responses_dict_path = os.path.join(input_dir, subfolder, 'responses_dict.pkl')\n",
    "    \n",
    "    # Check if the responses_dict.pkl file exists\n",
    "    if os.path.exists(responses_dict_path):\n",
    "        # Load the responses_dict from the pickle file\n",
    "        with open(responses_dict_path, 'rb') as file:\n",
    "            responses_dict = pickle.load(file)\n",
    "        name=subfolder.split('_video')[0]\n",
    "        # Iterate over each key-value pair in responses_dict\n",
    "        for key, value in responses_dict.items():\n",
    "            # Create the new key in the format of \"{sub_folder_name}+{original key}\"\n",
    "\n",
    "            \n",
    "            \n",
    "            \n",
    "            # Add the key-value pair to the big_dict\n",
    "            big_dict[str(len(big_dict)+1)] = value\n",
    "\n",
    "# Specify the path to save the pickle file\n",
    "pickle_file_path = os.path.join(input_dir, 'responses_dict.pkl')\n",
    "\n",
    "# Save the big_dict dictionary as a pickle file\n",
    "with open(pickle_file_path, 'wb') as file:\n",
    "    pickle.dump(big_dict, file)\n",
    "\n"
   ]
  },
  {
   "cell_type": "markdown",
   "metadata": {},
   "source": [
    "<h1><strong>Compare with neutral baseline</strong></h1>\n"
   ]
  },
  {
   "cell_type": "code",
   "execution_count": 4,
   "metadata": {},
   "outputs": [],
   "source": [
    "import os\n",
    "input_dir = \"/media/qihan/CORSAIR/Test/Data_clean/User_3/video_2\"\n",
    "compare_dir = \"/media/qihan/CORSAIR/Test/Data_clean/User_3/neutral_baseline\"\n",
    "\n",
    "#for subfolder in tqdm(os.listdir(input_dir)):\n",
    "#    folder = os.path.join(input_dir, subfolder)\n",
    "#    get_similarity_matrix(folder, compare_dir=compare_dir)\n"
   ]
  },
  {
   "cell_type": "markdown",
   "metadata": {},
   "source": [
    "clean up the catalog.csv"
   ]
  },
  {
   "cell_type": "code",
   "execution_count": 18,
   "metadata": {},
   "outputs": [
    {
     "name": "stdout",
     "output_type": "stream",
     "text": [
      "{'0_0': 'No Error', '0_1': 'No Error', '0_2': 'No Error', '0_3': 'No Error', '0_4': 'No Error', '0_5': 'No Error', '1_0': 'Move too slow', '1_1': 'No Error', '1_2': 'Gripper mistakenly lifted the table cloth while attempting to pick up the popsicle', '1_3': 'Wrong placement', '1_4': 'No Error', '1_5': 'No Error', '1_6': 'robot spilled the fries due to wrong orientation of holding the fries box', '1_7': 'No Error', '1_8': 'No Error', '1_9': 'Robot grabbed the sandwich too hard, it broke the sandwich into pieces', '1_10': 'No Error', '1_11': 'Robot grabbed the sandwich too hard, it broke the sandwich into pieces. Human fixed it by putting sandwich pieces back together.', '1_12': 'No Error', '1_13': 'Move too fast', '1_15': 'Wrong placement', '1_16': 'Wrong placement', '1_17': 'No Error', '2_0': 'No Error', '2_2': 'No Error', '2_3': 'No Error', '2_4': 'No Error', '2_5': 'Move too fast', '2_6': 'No Error', '2_7': 'No Error', '2_8': 'Robot picked up the table cloth with the marker, causing the other markers fall off the table', '2_9': 'Robot placed the black marker at wrong place, instead of bringing it to the user.', '3_0': 'The robot knocked over the photo frame, human corrected it', '3_1': 'No Error', '3_2': 'the robot knocked the cup off the table, human fixed it later', '3_3': 'the robot grabbed the plant on its leaf instead of holding the vase', '3_4': \"robot place the flower on the edge of the table, resulting it to slide off the table's edge\", '3_6': 'No Error', '3_7': 'Move too fast', '3_8': 'No Error', '3_9': 'robot placed the flower in the wrong orientation, the human adjusted the orientation afterwards', '3_10': 'Wrong orientation'}\n"
     ]
    }
   ],
   "source": [
    "\n",
    "\n",
    "\n",
    "\n",
    "# Specify the path to the CSV file\n",
    "csv_file = \"/home/qihan/Playground/Data/User_3/catalog.csv\"\n",
    "catalog={}\n",
    "# Read the CSV file\n",
    "with open(csv_file, mode='r') as file:\n",
    "    csv_reader = csv.reader(file)\n",
    "    \n",
    "    # Iterate over each line in the CSV file\n",
    "    for line in csv_reader:\n",
    "        # Get the JSON string from the line\n",
    "        json_string = line[0]\n",
    "        \n",
    "        # Load the JSON string into a dictionary\n",
    "        data = json.loads(json_string)\n",
    "        \n",
    "        index=data.get('index')\n",
    "        task_number=index.split('_')[1]\n",
    "        episode_number=index.split('_')[2]\n",
    "        catalog[f\"{task_number}_{episode_number}\"]=data.get('error_type')\n",
    "\n",
    "        # specify your source directory\n",
    "        source_file = f\"/home/qihan/Playground/Data/User_3/video_2/{task_number}/{episode_number}/responses_dict.pkl\"\n",
    "\n",
    "        # specify your destination directory\n",
    "        destination_file = f\"/home/qihan/Playground/Data/User_3/face_data/{int('No Error' not in data.get('error_type'))}/{task_number}_{episode_number}.pkl\"\n",
    "\n",
    "        # copy source directory to destination directory\n",
    "        shutil.copy2(source_file, destination_file)\n",
    "\n",
    "        # Print the dictionary\n",
    "        #print(data)\n",
    "\n",
    "print(catalog)\n",
    "# Specify the path to save the catalog JSON file\n",
    "catalog_file = \"/home/qihan/Playground/Data/User_3/error_catalog.json\"\n",
    "\n",
    "# Save the catalog dictionary as a JSON file\n",
    "with open(catalog_file, 'w') as file:\n",
    "    json.dump(catalog, file)\n"
   ]
  },
  {
   "cell_type": "markdown",
   "metadata": {},
   "source": [
    "Make a json file for error and non-error"
   ]
  },
  {
   "cell_type": "code",
   "execution_count": 20,
   "metadata": {},
   "outputs": [],
   "source": [
    "import json\n",
    "\n",
    "# Load the dictionary from the JSON file\n",
    "with open(catalog_file, 'r') as file:\n",
    "    input_dict = json.load(file)\n",
    "\n",
    "# Create two empty dictionaries\n",
    "no_error_dict = {}\n",
    "error_dict = {}\n",
    "\n",
    "# Iterate over the key-value pairs in the input dictionary\n",
    "for key, value in input_dict.items():\n",
    "    if value == 'No Error':\n",
    "        # Add the key-value pair to the no_error_dict\n",
    "        no_error_dict[key] = value\n",
    "    else:\n",
    "        # Add the key-value pair to the error_dict\n",
    "        error_dict[key] = value\n",
    "\n",
    "# Save the no_error_dict to a JSON file\n",
    "with open('/home/qihan/Playground/Data/User_3/no_error_dict.json', 'w') as file:\n",
    "    json.dump(no_error_dict, file)\n",
    "\n",
    "# Save the error_dict to a JSON file\n",
    "with open('/home/qihan/Playground/Data/User_3/error_dict.json', 'w') as file:\n",
    "    json.dump(error_dict, file)\n"
   ]
  },
  {
   "cell_type": "markdown",
   "metadata": {},
   "source": [
    "define train-val-test split"
   ]
  },
  {
   "cell_type": "code",
   "execution_count": 2,
   "metadata": {},
   "outputs": [],
   "source": [
    "import random\n",
    "import json\n",
    "\n",
    "def split_dict_keys(dictionary, train_ratio=0.7, val_ratio=0.2, test_ratio=0.1):\n",
    "    # Get the keys of the dictionary\n",
    "    keys = list(dictionary.keys())\n",
    "    \n",
    "    # Calculate the number of keys for each set\n",
    "    num_keys = len(keys)\n",
    "    num_train = int(num_keys * train_ratio)\n",
    "    num_val = int(num_keys * val_ratio)\n",
    "    num_test = int(num_keys * test_ratio)\n",
    "    \n",
    "    # Randomly shuffle the keys\n",
    "    random.shuffle(keys)\n",
    "    \n",
    "    # Split the keys into training, validation, and test sets\n",
    "    train_keys = keys[:num_train]\n",
    "    val_keys = keys[num_train:num_train+num_val]\n",
    "    test_keys = keys[num_train+num_val:]\n",
    "    \n",
    "    # Create the training, validation, and test dictionaries\n",
    "    train_dict = {key: dictionary[key] for key in train_keys}\n",
    "    val_dict = {key: dictionary[key] for key in val_keys}\n",
    "    test_dict = {key: dictionary[key] for key in test_keys}\n",
    "    \n",
    "    return train_dict, val_dict, test_dict\n",
    "\n",
    "# Assuming you have a dictionary called 'my_dict'\n",
    "\n"
   ]
  },
  {
   "cell_type": "markdown",
   "metadata": {},
   "source": [
    "create train-val-test dict"
   ]
  },
  {
   "cell_type": "code",
   "execution_count": 3,
   "metadata": {},
   "outputs": [],
   "source": [
    "import json\n",
    "\n",
    "# Specify the path to the JSON file\n",
    "json_file = '/home/qihan/Playground/Data/User_3/error_dict.json'\n",
    "face_data_dir=\"/home/qihan/Playground/Data/User_3/face_data/1\"\n",
    "# Load the dictionary from the JSON file\n",
    "with open(json_file, 'r') as file:\n",
    "    dictionary = json.load(file)\n",
    "\n",
    "\n",
    "train_dict, val_dict, test_dict=split_dict_keys(dictionary)\n",
    "\n",
    "# Save the dictionaries as separate JSON files\n",
    "train_file = os.path.join(face_data_dir,'train_dict.json')\n",
    "val_file = os.path.join(face_data_dir,'val_dict.json')\n",
    "test_file = os.path.join(face_data_dir,'test_dict.json')\n",
    "\n",
    "with open(train_file, 'w') as file:\n",
    "    json.dump(train_dict, file)\n",
    "\n",
    "with open(val_file, 'w') as file:\n",
    "    json.dump(val_dict, file)\n",
    "\n",
    "with open(test_file, 'w') as file:\n",
    "    json.dump(test_dict, file)\n",
    "\n"
   ]
  },
  {
   "cell_type": "code",
   "execution_count": 4,
   "metadata": {},
   "outputs": [],
   "source": [
    "\n",
    "\n",
    "def concatenate_nparray(json_file_path):\n",
    "    # Load the JSON file\n",
    "    with open(json_file_path, 'r') as json_file:\n",
    "        data = json.load(json_file)\n",
    "\n",
    "    # Initialize a list to store all tensors\n",
    "    array = []\n",
    "\n",
    "    # Get the directory of the JSON file\n",
    "    dir_path = os.path.dirname(json_file_path)\n",
    "\n",
    "    # Iterate over each .pkl file in the JSON file\n",
    "    for pkl_file in data.keys():\n",
    "        # Construct the full path to the .pkl file\n",
    "        pkl_file_path = os.path.join(dir_path, pkl_file + \".pkl\")\n",
    "\n",
    "        # Load the .pkl file\n",
    "        with open(pkl_file_path, 'rb') as file:\n",
    "            tensor_dict = pickle.load(file)\n",
    "\n",
    "        # Iterate over each tensor in the .pkl file\n",
    "        for tensor in tensor_dict.values():\n",
    "            # Add the tensor to the list\n",
    "            array.append(tensor.cpu().numpy())\n",
    "\n",
    "\n",
    "    # Concatenate all tensors\n",
    "    result = np.stack(array, axis=0)\n",
    "    #perm = torch.randperm(result.size(0))\n",
    "    #result = result[perm]\n",
    "    return result"
   ]
  },
  {
   "cell_type": "code",
   "execution_count": 10,
   "metadata": {},
   "outputs": [],
   "source": [
    "def extract_rows_and_save(np_array, ratio, original_file='original.npy', new_file='new.npy'):\n",
    "    # Calculate the number of rows to extract\n",
    "    num_rows = int(np_array.shape[0] * ratio)\n",
    "\n",
    "    # Generate a permutation of the row indices\n",
    "    perm = np.random.permutation(np_array.shape[0])\n",
    "\n",
    "    # Split the permutation into two parts\n",
    "    extract_indices = perm[:num_rows]\n",
    "    remaining_indices = perm[num_rows:]\n",
    "\n",
    "    # Extract the rows and create the new array\n",
    "    new_array = np_array[extract_indices]\n",
    "\n",
    "    # Remove the rows from the original array\n",
    "    np_array = np_array[remaining_indices]\n",
    "\n",
    "    # Save the original array and the new array to files\n",
    "    np.save(original_file, np_array)\n",
    "    np.save(new_file, new_array)\n",
    "    return np_array, new_array"
   ]
  },
  {
   "cell_type": "code",
   "execution_count": 11,
   "metadata": {},
   "outputs": [
    {
     "name": "stdout",
     "output_type": "stream",
     "text": [
      "(114, 128)\n"
     ]
    }
   ],
   "source": [
    "face_data_dir=\"/home/qihan/Playground/Data/User_3/face_data/0\"\n",
    "train_file = os.path.join(face_data_dir,'train_dict.json')\n",
    "val_file = os.path.join(face_data_dir,'val_dict.json')\n",
    "test_file = os.path.join(face_data_dir,'test_dict.json')\n",
    "neutral_all_sample=concatenate_nparray(train_file)\n",
    "train_set, baseline=extract_rows_and_save(neutral_all_sample, 0.1, original_file='original.npy', new_file='baseline.npy')\n",
    "print(baseline.shape)"
   ]
  },
  {
   "cell_type": "markdown",
   "metadata": {},
   "source": [
    "Implement sliding window method, print cosine similarity wrt all neutral baseline"
   ]
  },
  {
   "cell_type": "code",
   "execution_count": 12,
   "metadata": {},
   "outputs": [],
   "source": [
    "import torch\n",
    "import pickle\n",
    "\n",
    "def convert_pkl_to_tensor(pkl_file):\n",
    "    # Load the .pkl file\n",
    "    with open(pkl_file, 'rb') as file:\n",
    "        data = pickle.load(file)\n",
    "\n",
    "        # Convert each entry in the data dictionary to a tensor\n",
    "        tensors = [data[key].cpu().numpy() for key in data.keys()]\n",
    "        \n",
    "        # Stack the tensors together\n",
    "        stacked_array = np.stack(tensors)\n",
    "        \n",
    "        return stacked_array\n",
    "    "
   ]
  },
  {
   "cell_type": "markdown",
   "metadata": {},
   "source": [
    "Test with one sample"
   ]
  },
  {
   "cell_type": "code",
   "execution_count": 1,
   "metadata": {},
   "outputs": [
    {
     "ename": "NameError",
     "evalue": "name 'convert_pkl_to_tensor' is not defined",
     "output_type": "error",
     "traceback": [
      "\u001b[0;31m---------------------------------------------------------------------------\u001b[0m",
      "\u001b[0;31mNameError\u001b[0m                                 Traceback (most recent call last)",
      "Cell \u001b[0;32mIn[1], line 1\u001b[0m\n\u001b[0;32m----> 1\u001b[0m whole_sample\u001b[38;5;241m=\u001b[39m\u001b[43mconvert_pkl_to_tensor\u001b[49m(\u001b[38;5;124m\"\u001b[39m\u001b[38;5;124m/home/qihan/Playground/Data/User_3/face_data/0/3_8.pkl\u001b[39m\u001b[38;5;124m\"\u001b[39m)\n\u001b[1;32m      2\u001b[0m \u001b[38;5;28mprint\u001b[39m(whole_sample\u001b[38;5;241m.\u001b[39mshape)\n",
      "\u001b[0;31mNameError\u001b[0m: name 'convert_pkl_to_tensor' is not defined"
     ]
    }
   ],
   "source": [
    "whole_sample=convert_pkl_to_tensor(\"/home/qihan/Playground/Data/User_3/face_data/0/3_8.pkl\")\n",
    "print(whole_sample.shape)"
   ]
  },
  {
   "cell_type": "markdown",
   "metadata": {},
   "source": [
    "Now implement a whole similarity matirx"
   ]
  },
  {
   "cell_type": "code",
   "execution_count": 46,
   "metadata": {},
   "outputs": [],
   "source": [
    "def visualize_cosine_similarity(array_1, array_2):\n",
    "    # Initialize a matrix to store the cosine similarities\n",
    "    cos_sim_matrix = np.zeros((array_1.shape[0], array_2.shape[0]))\n",
    "\n",
    "    # Compute the cosine similarity for each pair of vectors\n",
    "    print(array_1.shape)\n",
    "    for i in range(array_1.shape[0]):\n",
    "        for j in range(array_2.shape[0]):\n",
    "            cos_sim_matrix[i, j] = cosine_similarity(array_1[i], array_2[j])\n",
    "\n",
    "    # Convert the cosine similarity matrix to a numpy array for visualization\n",
    "    #cos_sim_matrix = cos_sim_matrix.T\n",
    "    cos_sim_matrix = np.mean(cos_sim_matrix, axis=1).reshape(1, -1)\n",
    "    print(cos_sim_matrix.shape)\n",
    "    # Create a heatmap of the cosine similarity matrix\n",
    "    plt.figure(figsize=(10, 8))\n",
    "    sns.heatmap(cos_sim_matrix, cmap='coolwarm', fmt=\".2f\")\n",
    "    plt.xlabel('sample')\n",
    "    plt.ylabel('baseline')\n",
    "    plt.title('Cosine Similarity between Tensor 1 and Tensor 2')\n",
    "    plt.show()\n",
    "\n",
    "# Example usage:\n",
    "# tensor_1 = torch.rand((5, 10))\n",
    "# tensor_2 = torch.rand((5, 10))\n",
    "# visualize_cosine_similarity(tensor_1, tensor_2)"
   ]
  },
  {
   "cell_type": "code",
   "execution_count": 53,
   "metadata": {},
   "outputs": [
    {
     "name": "stdout",
     "output_type": "stream",
     "text": [
      "(76, 128)\n",
      "(1, 76)\n"
     ]
    },
    {
     "data": {
      "image/png": "[encoded data removed]",
      "text/plain": [
       "<Figure size 1000x800 with 2 Axes>"
      ]
     },
     "metadata": {},
     "output_type": "display_data"
    }
   ],
   "source": [
    "visualize_cosine_similarity(whole_sample,baseline )"
   ]
  },
  {
   "cell_type": "code",
   "execution_count": null,
   "metadata": {},
   "outputs": [],
   "source": []
  },
  {
   "cell_type": "code",
   "execution_count": 39,
   "metadata": {},
   "outputs": [],
   "source": [
    "class FaceEmbeddingEpisode():\n",
    "    def __init__(self, path_to_response_dict,path_to_catalog,task,index):\n",
    "        self.task=task\n",
    "        self.index=index\n",
    "        self.task_index=f\"{task}_{index}\"\n",
    "        with open(path_to_response_dict,'rb') as file:\n",
    "            self.response_dict =pickle.load(file)\n",
    "        self.path_to_catalog=path_to_catalog\n",
    "        self.error_type = None\n",
    "        with open(self.path_to_catalog, mode='r') as file:\n",
    "            csv_reader = csv.reader(file)\n",
    "            \n",
    "            # Iterate over each line in the CSV file\n",
    "            for line in csv_reader:\n",
    "                # Get the JSON string from the line\n",
    "                json_string = line[0]\n",
    "                \n",
    "                # Load the JSON string into a dictionary\n",
    "                data = json.loads(json_string)\n",
    "                \n",
    "                index=data.get('index')\n",
    "                task_number=int(index.split('_')[1])\n",
    "                episode_number=int(index.split('_')[2])\n",
    "                if task_number==self.task and episode_number==self.index:\n",
    "                    self.error_type= data.get('error_type')\n",
    "        if self.error_type is None:\n",
    "            raise ValueError(\"Error type not found in the catalog\")\n",
    "        self.list_of_frames=[]\n",
    "        list_of_facial_embeddings=[]\n",
    "        for key in self.response_dict.keys():\n",
    "            self.list_of_frames.append(key)\n",
    "            list_of_facial_embeddings.append(self.response_dict[key].cpu().numpy())\n",
    "        \n",
    "        self.facial_embedding_matrix = np.stack(list_of_facial_embeddings)\n",
    "\n",
    "\n",
    "    def __str__(self):\n",
    "        return f\"Task: {self.task}, Index: {self.index},\\nError Type: {self.error_type}, \\nNumber of Frames: {len(self.list_of_frames)}, \\nFacial Embedding Matrix Shape: {self.facial_embedding_matrix.shape}\"\n",
    "\n",
    "\n",
    "\n",
    "\n",
    "\n",
    "               \n",
    "        "
   ]
  },
  {
   "cell_type": "code",
   "execution_count": 40,
   "metadata": {},
   "outputs": [
    {
     "name": "stdout",
     "output_type": "stream",
     "text": [
      "Task: 3, Index: 8,\n",
      "Error Type: No Error, \n",
      "Number of Frames: 76, \n",
      "Facial Embedding Matrix Shape: (76, 128)\n"
     ]
    }
   ],
   "source": [
    "test_obj=FaceEmbeddingEpisode(\"/home/qihan/Playground/Data/User_3/face_data/0/3_8.pkl\",\"/home/qihan/Playground/Data/User_3/catalog.csv\",3,8)\n",
    "print(test_obj)"
   ]
  }
 ],
 "metadata": {
  "kernelspec": {
   "display_name": "base",
   "language": "python",
   "name": "python3"
  },
  "language_info": {
   "codemirror_mode": {
    "name": "ipython",
    "version": 3
   },
   "file_extension": ".py",
   "mimetype": "text/x-python",
   "name": "python",
   "nbconvert_exporter": "python",
   "pygments_lexer": "ipython3",
   "version": "3.10.10"
  }
 },
 "nbformat": 4,
 "nbformat_minor": 2
}
